{
 "cells": [
  {
   "cell_type": "code",
   "execution_count": 72,
   "metadata": {
    "id": "H1orPMRlP903"
   },
   "outputs": [],
   "source": [
    "import seaborn as sns         \n",
    "import numpy as np\n",
    "import pandas as pd\n",
    "import matplotlib.pyplot as plt\n",
    "import os\n",
    "from scipy.stats import ks_2samp\n",
    "from scipy.spatial import distance\n",
    "from sklearn.manifold import MDS\n",
    "from sklearn.neighbors import KNeighborsClassifier\n",
    "from sklearn.model_selection import train_test_split\n",
    "from sklearn import metrics\n",
    "import random\n",
    "import math\n",
    "import time\n",
    "import pickle\n"
   ]
  },
  {
   "cell_type": "code",
   "execution_count": 2,
   "metadata": {
    "id": "w7jw-W7qTbHT"
   },
   "outputs": [],
   "source": [
    "# set path for reading files\n",
    "path=\"GPS2/\""
   ]
  },
  {
   "cell_type": "code",
   "execution_count": 11,
   "metadata": {
    "id": "kzBRkykVr8Ik"
   },
   "outputs": [],
   "source": [
    "#read all files\n",
    "classes= [ name for name in os.listdir(path) if os.path.isdir(os.path.join(path, name)) ]\n",
    "\n",
    "max_d=0\n",
    "min_d=99999\n",
    "min_of_max_d=99999\n",
    "gps_dict={}\n",
    "class_dict={}\n",
    "class_values=[]\n",
    "gps_files=[]\n",
    "for c in classes:\n",
    "    c_path=os.path.join(path,c)\n",
    "    files=os.listdir(c_path)\n",
    "    for f in files:\n",
    "        if(f.endswith(\".csv\")):\n",
    "            df=pd.read_csv(os.path.join(c_path,f),index_col=None, header=None)\n",
    "            # df = df.reset_index(level=0)\n",
    "            gps=[]\n",
    "            for index, row in df.iterrows(): \n",
    "                gps.append(row.to_list())\n",
    "                dis= np.linalg.norm(row.to_list())\n",
    "                if dis>max_d:\n",
    "                    max_d=dis\n",
    "                if dis<min_d:\n",
    "                    min_d=dis\n",
    "    \n",
    "            gps_dict[os.path.join(c_path,f)]=gps\n",
    "            class_dict[os.path.join(c_path,f)]=classes.index(c)\n",
    "            gps_files.append(os.path.join(c_path,f))\n",
    "            if(min_of_max_d>max_d):\n",
    "                min_of_max_d=max_d"
   ]
  },
  {
   "cell_type": "markdown",
   "metadata": {
    "id": "jlGaGG_v9N6P"
   },
   "source": [
    "splitting into m regions"
   ]
  },
  {
   "cell_type": "code",
   "execution_count": 12,
   "metadata": {
    "id": "GXOqBVnw9Mpx"
   },
   "outputs": [],
   "source": [
    "def green(p1,p2):\n",
    "    return np.dot(np.array(p1),np.array(p2))"
   ]
  },
  {
   "cell_type": "code",
   "execution_count": 13,
   "metadata": {
    "id": "OADnfbePEhpf"
   },
   "outputs": [],
   "source": [
    "#calculate histogram for a given gps and m\n",
    "def g2_distribution(GPS,m):\n",
    "#     split region into m+1 regions\n",
    "    m=m+1\n",
    "    distances = [np.linalg.norm(v) for v in GPS]\n",
    "    delta = (min_of_max_d-min_d) / m\n",
    "    gps_reg=[[] for i in range(m)]\n",
    "    for d in range(len(distances)):\n",
    "        value=int(distances[d] - min_d-(0.01*distances[d])) // delta\n",
    "        if value>m-1:\n",
    "            index=m-1\n",
    "        else:\n",
    "            index=value\n",
    "            \n",
    "        gps_reg[int(index)].append(GPS[d])\n",
    "\n",
    "    hist=[]\n",
    "    for i in range(m):\n",
    "        h1=[];\n",
    "        for j in range(i+1,m):\n",
    "            for p1 in range(int(len(gps_reg[i])/10)):\n",
    "                for p2 in range(int(len(gps_reg[j])/10)):\n",
    "                    point1=random.choice(gps_reg[i])\n",
    "                    point2=random.choice(gps_reg[j])\n",
    "                    h1.append(green(point1,point2))\n",
    "\n",
    "            hist.append(h1)\n",
    "\n",
    "            # plt.hist(h1)\n",
    "            # sns.distplot(h1, hist=False, label=\"test\")\n",
    "            # plt.show()\n",
    "    return hist\n",
    "\n",
    "\n",
    "\n"
   ]
  },
  {
   "cell_type": "code",
   "execution_count": null,
   "metadata": {},
   "outputs": [],
   "source": [
    "\n",
    "def compare(h1,h2):\n",
    "    l2=0\n",
    "    a=plt.hist(h1,bins=100,density=True)\n",
    "    b=plt.hist(h2,bins=100,density=True)\n",
    "    for i in range(len(a[0])):\n",
    "#         l2+=(a[0][i]-b[0][i])**2\n",
    "        l2=distance.minkowski(a[0],b[0],2)\n",
    "    return l2"
   ]
  },
  {
   "cell_type": "code",
   "execution_count": 14,
   "metadata": {
    "colab": {
     "base_uri": "https://localhost:8080/",
     "height": 857
    },
    "id": "4JLnlflbZFjw",
    "outputId": "3b9fa194-ba5f-444a-b1bf-6bb5d34a5a6d"
   },
   "outputs": [],
   "source": [
    "\n",
    "c_path=os.path.join(path,classes[0])\n",
    "files=os.listdir(c_path)\n",
    "hist=[]\n",
    "for f in files:\n",
    "#     print(gps_dict[os.path.join(c_path,f)])\n",
    "    h=g2_distribution(gps_dict[os.path.join(c_path,f)],1)\n",
    "    hist.append(h)\n",
    "    print(f)\n",
    "#     print(h)\n",
    "    sns.displot(h[0],label=\"test\",kind=\"kde\")\n",
    "plt.show()"
   ]
  },
  {
   "cell_type": "code",
   "execution_count": 15,
   "metadata": {},
   "outputs": [
    {
     "data": {
      "text/plain": [
       "44"
      ]
     },
     "execution_count": 15,
     "metadata": {},
     "output_type": "execute_result"
    }
   ],
   "source": [
    "len(gps_files)"
   ]
  },
  {
   "cell_type": "code",
   "execution_count": 16,
   "metadata": {},
   "outputs": [
    {
     "name": "stdout",
     "output_type": "stream",
     "text": [
      "0\n",
      "1\n",
      "2\n",
      "3\n",
      "4\n",
      "5\n",
      "6\n",
      "7\n",
      "8\n",
      "9\n",
      "10\n",
      "11\n",
      "12\n",
      "13\n",
      "14\n",
      "15\n",
      "16\n",
      "17\n",
      "18\n",
      "19\n",
      "20\n",
      "21\n",
      "22\n",
      "23\n",
      "24\n",
      "25\n",
      "26\n",
      "27\n",
      "28\n",
      "29\n",
      "30\n",
      "31\n",
      "32\n",
      "33\n",
      "34\n",
      "35\n",
      "36\n",
      "37\n",
      "38\n",
      "39\n",
      "40\n",
      "41\n",
      "42\n",
      "43\n"
     ]
    }
   ],
   "source": [
    "#find all histograms\n",
    "g2_his_list=[]\n",
    "for i in range(len(gps_files)):\n",
    "#     print(i)\n",
    "    g2_his_list.append(g2_distribution(gps_dict[gps_files[i]],1))"
   ]
  },
  {
   "cell_type": "code",
   "execution_count": 101,
   "metadata": {},
   "outputs": [
    {
     "data": {
      "text/plain": [
       "'elephant-gallop'"
      ]
     },
     "execution_count": 101,
     "metadata": {},
     "output_type": "execute_result"
    }
   ],
   "source": [
    "classes[1]"
   ]
  },
  {
   "cell_type": "code",
   "execution_count": 104,
   "metadata": {},
   "outputs": [
    {
     "data": {
      "image/png": "[encoded data removed]",
      "text/plain": [
       "<Figure size 432x288 with 1 Axes>"
      ]
     },
     "metadata": {
      "needs_background": "light"
     },
     "output_type": "display_data"
    }
   ],
   "source": [
    "\n",
    "\n"
   ]
  },
  {
   "cell_type": "code",
   "execution_count": 26,
   "metadata": {},
   "outputs": [
    {
     "name": "stdout",
     "output_type": "stream",
     "text": [
      "i- 0\n",
      "i- 1\n",
      "i- 2\n",
      "i- 3\n",
      "i- 4\n",
      "i- 5\n",
      "i- 6\n",
      "i- 7\n",
      "i- 8\n",
      "i- 9\n",
      "i- 10\n",
      "i- 11\n",
      "i- 12\n",
      "i- 13\n",
      "i- 14\n",
      "i- 15\n",
      "i- 16\n",
      "i- 17\n",
      "i- 18\n",
      "i- 19\n",
      "i- 20\n",
      "i- 21\n",
      "i- 22\n",
      "i- 23\n",
      "i- 24\n",
      "i- 25\n",
      "i- 26\n",
      "i- 27\n",
      "i- 28\n",
      "i- 29\n",
      "i- 30\n",
      "i- 31\n",
      "i- 32\n",
      "i- 33\n",
      "i- 34\n",
      "i- 35\n",
      "i- 36\n",
      "i- 37\n",
      "i- 38\n",
      "i- 39\n",
      "i- 40\n",
      "i- 41\n",
      "i- 42\n",
      "i- 43\n",
      "3249.7057988643646\n"
     ]
    },
    {
     "data": {
      "image/png": "[encoded data removed]",
      "text/plain": [
       "<Figure size 432x288 with 1 Axes>"
      ]
     },
     "metadata": {
      "needs_background": "light"
     },
     "output_type": "display_data"
    }
   ],
   "source": [
    "start = time.time()\n",
    "\n",
    "k2_matrix=[[0 for i in range(len(gps_files))]for i in range(len(gps_files))]\n",
    "bin_matrix=[[0 for i in range(len(gps_files))]for i in range(len(gps_files))]\n",
    "mink_matrix=[[0 for i in range(len(gps_files))]for i in range(len(gps_files))]\n",
    "for i in range(len(gps_files)):\n",
    "    print(\"i-\",i)\n",
    "\n",
    "    for j in range(i+1,len(gps_files)):\n",
    "#         print(j)\n",
    "        d1=0\n",
    "        d2=0\n",
    "        h1=g2_his_list[i]\n",
    "        h2=g2_his_list[j]\n",
    "        for k in range(len(h1)):\n",
    "            if(len(h1[k])>0 and len(h2[k])>0):\n",
    "                d1+=ks_2samp(h1[k],h2[k])[0]\n",
    "                d2+=compare(h1[k],h2[k])\n",
    "        k2_matrix[i][j]=d1\n",
    "        k2_matrix[j][i]=d1\n",
    "        mink_matrix[i][j]=d2\n",
    "        mink_matrix[j][i]=d2\n",
    "        \n",
    "    \n",
    "#         bin2.append(compare(h1[0],h2[0]))\n",
    "#         mink.append(mink)\n",
    "end=time.time()\n",
    "print(end-start)"
   ]
  },
  {
   "cell_type": "code",
   "execution_count": 58,
   "metadata": {},
   "outputs": [],
   "source": [
    "with open('class_list.txt', 'w') as files:\n",
    "    for i in range(len(label)):\n",
    "        files.write(label[i]+\"/\"+gps_files[i]+\"\\n\")"
   ]
  },
  {
   "cell_type": "code",
   "execution_count": 82,
   "metadata": {},
   "outputs": [],
   "source": [
    "def plot_mds(x, y, labels):\n",
    "    fig, ax = plt.subplots(figsize=(10,10))\n",
    "    for c in classes:\n",
    "        class_label=[i for i in range(len(labels)) if labels[i]==c]\n",
    "        ax.scatter(x[class_label], y[class_label], label=c)\n",
    "    ax.legend()\n",
    "    plt.show()"
   ]
  },
  {
   "cell_type": "code",
   "execution_count": 83,
   "metadata": {},
   "outputs": [
    {
     "data": {
      "image/png": "[encoded data removed]",
      "text/plain": [
       "<Figure size 720x720 with 1 Axes>"
      ]
     },
     "metadata": {
      "needs_background": "light"
     },
     "output_type": "display_data"
    }
   ],
   "source": [
    "model = MDS(dissimilarity='precomputed')\n",
    "coords = embedder.fit_transform(k2_matrix)\n",
    "label=[classes[class_dict[f]] for f in gps_files]\n",
    "plot_mds(coords[:, 0], coords[:, 1], label)"
   ]
  },
  {
   "cell_type": "code",
   "execution_count": 84,
   "metadata": {},
   "outputs": [
    {
     "data": {
      "image/png": "[encoded data removed]",
      "text/plain": [
       "<Figure size 720x720 with 1 Axes>"
      ]
     },
     "metadata": {
      "needs_background": "light"
     },
     "output_type": "display_data"
    }
   ],
   "source": [
    "model = MDS(dissimilarity='precomputed')\n",
    "coords = model.fit_transform(mink_matrix)\n",
    "label=[classes[class_dict[f]] for f in gps_files]\n",
    "plot_mds(coords[:, 0], coords[:, 1], label)"
   ]
  },
  {
   "cell_type": "markdown",
   "metadata": {},
   "source": [
    "with open('mds_gps_pkl', 'wb') as files:\n",
    "    pickle.dump(model, files)"
   ]
  },
  {
   "cell_type": "code",
   "execution_count": null,
   "metadata": {
    "colab": {
     "base_uri": "https://localhost:8080/",
     "height": 356
    },
    "id": "jhYheF4Ya2Fi",
    "outputId": "8738b37e-3776-411c-865f-1279ec4470bb"
   },
   "outputs": [],
   "source": [
    "https://scikit-learn.org/stable/modules/generated/sklearn.neighbors.KNeighborsClassifier.html"
   ]
  },
  {
   "cell_type": "code",
   "execution_count": 75,
   "metadata": {
    "colab": {
     "base_uri": "https://localhost:8080/",
     "height": 169
    },
    "id": "KrHh7gxBeXDf",
    "outputId": "68b21bf8-4083-4ebb-9268-405c9b7ef4f3"
   },
   "outputs": [
    {
     "name": "stdout",
     "output_type": "stream",
     "text": [
      "Accuracy of model with GPS is 0.3333333333333333\n"
     ]
    },
    {
     "data": {
      "text/plain": [
       "array(['camel-collapse', 'elephant-gallop', 'face-poses', 'face-poses',\n",
       "       'horse-collapse', 'camel-collapse', 'camel-collapse',\n",
       "       'elephant-gallop', 'elephant-poses'], dtype='<U15')"
      ]
     },
     "execution_count": 75,
     "metadata": {},
     "output_type": "execute_result"
    }
   ],
   "source": [
    "X = [c for c in coords]\n",
    "y = label\n",
    "\n",
    "X_train, X_test, y_train, y_test = train_test_split( X, y, test_size=0.2, random_state=4)\n",
    "\n",
    "neigh = KNeighborsClassifier()\n",
    " \n",
    "neigh.fit(X_train,y_train)\n",
    "Pred_y = neigh.predict(X_test)\n",
    "print(\"Accuracy of model with GPS is\",metrics.accuracy_score(y_test, Pred_y))"
   ]
  },
  {
   "cell_type": "code",
   "execution_count": null,
   "metadata": {},
   "outputs": [],
   "source": [
    "Pred_y = neigh.predict(X_test)\n",
    "print(\"Accuracy of model at K=4 is\",metrics.accuracy_score(y_test, Pred_y))"
   ]
  },
  {
   "cell_type": "markdown",
   "metadata": {},
   "source": [
    "https://nbviewer.org/github/empet/Hollow-mask-illusion/blob/main/Hollow-Mask-illusion-Animation.ipynb"
   ]
  },
  {
   "cell_type": "code",
   "execution_count": null,
   "metadata": {},
   "outputs": [],
   "source": [
    "import meshio\n",
    "import numpy as np\n",
    "from numpy import pi, sin, cos\n",
    "import plotly.graph_objects as go\n",
    "from plotly.subplots import make_subplots\n",
    "import plotly.io as pio"
   ]
  },
  {
   "cell_type": "code",
   "execution_count": null,
   "metadata": {},
   "outputs": [],
   "source": [
    "msh = meshio.read(\"/content/cat-01.obj\") #https://raw.githubusercontent.com/empet/Datasets/master/Meshes/face-mesh.obj\n",
    "verts = msh.points\n",
    "middle = np.max(verts, axis=0) + np.min(verts, axis=0)/2\n",
    "verts = verts - middle\n",
    "I, J, K =  msh.cells_dict[\"triangle\"].T\n",
    "x, y, z = verts.T"
   ]
  },
  {
   "cell_type": "code",
   "execution_count": null,
   "metadata": {},
   "outputs": [],
   "source": [
    "fig= make_subplots(rows=1, cols=3, \n",
    "                   horizontal_spacing=0.015,\n",
    "                   specs=[[{'type': 'scene'},  {'type': 'scene'},{'type': 'scene'}]])\n",
    "\n",
    "colorscale = [[0, 'rgb(250,250,250)'], \n",
    "              [1, 'rgb(250,250,250)']]\n",
    "fig.add_trace(go.Mesh3d(x=x, y=y, z=z, \n",
    "                          i=I, j=J, k=K, \n",
    "                          intensity=z, \n",
    "                          colorscale =colorscale,\n",
    "                          showscale=False,\n",
    "                         ), 1, 1)\n",
    "fig.add_trace(go.Mesh3d(x=x, y=y, z=z, \n",
    "                          i=I, j=J, k=K, \n",
    "                          intensity=z, \n",
    "                          colorscale =colorscale,\n",
    "                          showscale=False,\n",
    "                         ), 1, 2)\n",
    "fig.add_trace(go.Mesh3d(x=x, y=y, z=z, \n",
    "                          i=I, j=J, k=K, \n",
    "                          intensity=z, \n",
    "                          colorscale =colorscale,\n",
    "                          showscale=False,\n",
    "                         ), 1, 3)\n",
    "axis_prop =dict(visible=False, autorange=False)\n",
    "scenes = dict(xaxis=dict(range=[-1, 1], **axis_prop),\n",
    "              yaxis=dict(range=[-1, 1], **axis_prop),\n",
    "              zaxis=dict(range=[-1, 1], **axis_prop),\n",
    "              camera_eye=dict(x=-1.85, y=-1.85, z=0.65),\n",
    "              aspectratio=dict(x=3, y=3, z=3))\n",
    "\n",
    "fig.update_layout(title_text=\"Hollow mask illusion\", title_x=0.5, title_y=0.95,\n",
    "                  font_size=16, font_color=\"white\",\n",
    "                  width=800, height=400, autosize=True, \n",
    "                  margin=dict(t=2, r=2, b=2, l=2),\n",
    "                  paper_bgcolor='black',\n",
    "                  scene= scenes, scene2=scenes,scene3=scenes)\n",
    "fig.show()"
   ]
  }
 ],
 "metadata": {
  "colab": {
   "provenance": []
  },
  "kernelspec": {
   "display_name": "Python 3 (ipykernel)",
   "language": "python",
   "name": "python3"
  },
  "language_info": {
   "codemirror_mode": {
    "name": "ipython",
    "version": 3
   },
   "file_extension": ".py",
   "mimetype": "text/x-python",
   "name": "python",
   "nbconvert_exporter": "python",
   "pygments_lexer": "ipython3",
   "version": "3.9.7"
  }
 },
 "nbformat": 4,
 "nbformat_minor": 1
}
